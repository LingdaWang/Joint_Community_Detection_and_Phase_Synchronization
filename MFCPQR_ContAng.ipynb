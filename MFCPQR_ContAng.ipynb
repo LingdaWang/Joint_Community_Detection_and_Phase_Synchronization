{
 "cells": [
  {
   "cell_type": "code",
   "execution_count": 1,
   "id": "9807bac5",
   "metadata": {
    "ExecuteTime": {
     "end_time": "2022-02-01T02:57:23.331227Z",
     "start_time": "2022-02-01T02:57:22.889126Z"
    }
   },
   "outputs": [],
   "source": [
    "import numpy as np\n",
    "import matplotlib.pyplot as plt\n",
    "from numpy.fft import ifft,fft\n",
    "from scipy.linalg import eigh\n",
    "import random\n",
    "from networkx.generators.community import stochastic_block_model\n",
    "from networkx.linalg.graphmatrix import adjacency_matrix\n",
    "from numpy.linalg import norm\n",
    "from matplotlib import cm\n",
    "import time\n",
    "# set random seeds\n",
    "# random.seed(11)\n",
    "# np.random.seed(11)"
   ]
  },
  {
   "cell_type": "code",
   "execution_count": 2,
   "id": "4265bba7",
   "metadata": {
    "ExecuteTime": {
     "end_time": "2022-02-01T02:57:23.347339Z",
     "start_time": "2022-02-01T02:57:23.332228Z"
    }
   },
   "outputs": [],
   "source": [
    "class MFSC_ContAng:\n",
    "\n",
    "    def __init__(self, size_of_clusters, probs_of_sbm, max_freq, num_of_clusters):\n",
    "\n",
    "        self.graph = np.asarray(adjacency_matrix(stochastic_block_model(size_of_clusters, probs_of_sbm)).todense())\n",
    "        self.true_angles_by_cluster = dict()\n",
    "        self.size_of_clusters = size_of_clusters\n",
    "        self.N = size_of_clusters.sum()\n",
    "        self.max_freq = max_freq\n",
    "        self.num_of_clusters = num_of_clusters\n",
    "        self.alpha_struc = None\n",
    "        self.A_k = np.zeros((self.max_freq, self.N, self.N), dtype='complex_')\n",
    "        self.Phi = np.zeros((self.max_freq, self.num_of_clusters, self.N), dtype='complex_')\n",
    "        self.Pi = np.eye(self.N)\n",
    "        self.cluster_id = None\n",
    "        self.estimated_angles = None\n",
    "        self.Rf = np.zeros((360, self.num_of_clusters, self.N), dtype='complex_')\n",
    "        \n",
    "    def generate_angles(self):\n",
    "\n",
    "        self.alpha_struc = np.random.uniform(low=0, high=2*np.pi, size=(self.N, self.N))\n",
    "        self.alpha_struc[np.tril_indices(self.N)] = 0\n",
    "        self.alpha_struc = self.alpha_struc + np.mod(-self.alpha_struc.T, 2*np.pi)\n",
    "        start_idx, end_idx = 0, 0\n",
    "        for idx, b_size in enumerate(self.size_of_clusters):\n",
    "            end_idx += b_size\n",
    "            alphas = np.random.uniform(low=0, high=2*np.pi, size=b_size)\n",
    "            self.true_angles_by_cluster.setdefault(idx, alphas)\n",
    "            self.alpha_struc[start_idx:end_idx, start_idx:end_idx] = np.mod(\n",
    "                alphas.reshape(-1, 1) - alphas,\n",
    "                2*np.pi\n",
    "            )\n",
    "            start_idx += b_size\n",
    "\n",
    "        return None\n",
    "    \n",
    "    def construct_A_k(self):\n",
    "\n",
    "        for freq in range(self.max_freq):\n",
    "            self.A_k[freq, :, :] = self.graph * np.exp(1j * (freq + 1) * self.alpha_struc)\n",
    "            _, eigen_vec = eigh(\n",
    "                self.A_k[freq, :, :],\n",
    "                subset_by_index=[self.N - self.num_of_clusters, self.N - 1]\n",
    "            )\n",
    "            self.Phi[freq, :, :] = eigen_vec.T\n",
    "        \n",
    "        return None\n",
    "    \n",
    "    def mfcpqr(self):\n",
    "\n",
    "        R = self.Phi.copy()\n",
    "        for m in range(self.num_of_clusters):\n",
    "            norm_sum = norm(R[:, m:, m:], axis=1).sum(axis=0)\n",
    "            piv = np.argmax(norm_sum) + m\n",
    "            R[:, :, [piv, m]] = R[:, :, [m, piv]]\n",
    "            self.Pi[:, [piv, m]] = self.Pi[:, [m, piv]]\n",
    "            for freq in range(self.max_freq):\n",
    "                _, tRm = MFSC_ContAng.qr_method_one_step(R[freq, m:, m:])\n",
    "                R[freq, m:, m:] = tRm\n",
    "\n",
    "        self.Rf[1:self.max_freq+1, :, :] = R @ self.Pi.T\n",
    "        fft_R = fft(self.Rf, axis=0).real\n",
    "        self.cluster_id = np.argmax(np.max(fft_R, axis=0), axis=0)\n",
    "        self.estimated_angles = np.pi * np.argmax(fft_R, axis=0)[self.cluster_id, np.array(range(self.N))] / 180\n",
    "\n",
    "        return None\n",
    "\n",
    "    @staticmethod\n",
    "    def qr_method_one_step(X):\n",
    "\n",
    "        m, _ = X.shape\n",
    "        r = X[:, 0]\n",
    "        alpha = -np.exp(1j * np.angle(r[0])) * norm(r)\n",
    "        e1 = np.zeros(m)\n",
    "        e1[0] = 1\n",
    "        u = r - alpha * e1\n",
    "        v = u / norm(u)\n",
    "        Q = np.eye(m) - 2 * v.reshape(-1, 1) @ np.conjugate(v).reshape(1, -1)\n",
    "        R = Q @ X\n",
    "        R[0, :] = np.exp(-1j * np.angle(R[0, 0])) * R[0, :]\n",
    "\n",
    "        return Q, R\n",
    "    \n",
    "    "
   ]
  },
  {
   "cell_type": "code",
   "execution_count": 3,
   "id": "b2d8d00a",
   "metadata": {
    "ExecuteTime": {
     "end_time": "2022-02-01T02:57:23.378685Z",
     "start_time": "2022-02-01T02:57:23.349232Z"
    }
   },
   "outputs": [],
   "source": [
    "n_sample = 20\n",
    "b_sizes = np.array([500, 500])\n",
    "n = b_sizes.sum()\n",
    "M = 2\n",
    "max_freq = 33\n",
    "success_rate = np.zeros((41, 16))\n",
    "angle_error = np.zeros((41, 16))"
   ]
  },
  {
   "cell_type": "code",
   "execution_count": 4,
   "id": "7fb766be",
   "metadata": {
    "ExecuteTime": {
     "end_time": "2022-02-01T03:18:15.284302Z",
     "start_time": "2022-02-01T02:57:23.379685Z"
    }
   },
   "outputs": [
    {
     "name": "stdout",
     "output_type": "stream",
     "text": [
      "5 2 0.009158717476870559 1.0\n",
      "cost 188.202903 second\n",
      "5 3 0.009569936183871728 1.0\n",
      "cost 186.0656424 second\n",
      "5 4 0.009612694262686104 1.0\n",
      "cost 185.19859610000003 second\n",
      "5 5 0.010249642030188572 1.0\n",
      "cost 183.14862319999997 second\n",
      "5 6 0.01014054464372988 1.0\n",
      "cost 143.24033020000002 second\n",
      "5 7 0.010664540340494518 1.0\n",
      "cost 145.2107274 second\n",
      "5 8 0.015630527186618674 0.95\n",
      "cost 145.35116900000003 second\n"
     ]
    },
    {
     "ename": "KeyboardInterrupt",
     "evalue": "",
     "output_type": "error",
     "traceback": [
      "\u001b[1;31m---------------------------------------------------------------------------\u001b[0m",
      "\u001b[1;31mKeyboardInterrupt\u001b[0m                         Traceback (most recent call last)",
      "\u001b[1;32mC:\\Users\\LINGDA~1\\AppData\\Local\\Temp/ipykernel_25196/3064985319.py\u001b[0m in \u001b[0;36m<module>\u001b[1;34m\u001b[0m\n\u001b[0;32m     13\u001b[0m             )\n\u001b[0;32m     14\u001b[0m             \u001b[0mmfsc\u001b[0m\u001b[1;33m.\u001b[0m\u001b[0mgenerate_angles\u001b[0m\u001b[1;33m(\u001b[0m\u001b[1;33m)\u001b[0m\u001b[1;33m\u001b[0m\u001b[1;33m\u001b[0m\u001b[0m\n\u001b[1;32m---> 15\u001b[1;33m             \u001b[0mmfsc\u001b[0m\u001b[1;33m.\u001b[0m\u001b[0mconstruct_A_k\u001b[0m\u001b[1;33m(\u001b[0m\u001b[1;33m)\u001b[0m\u001b[1;33m\u001b[0m\u001b[1;33m\u001b[0m\u001b[0m\n\u001b[0m\u001b[0;32m     16\u001b[0m             \u001b[0mmfsc\u001b[0m\u001b[1;33m.\u001b[0m\u001b[0mmfcpqr\u001b[0m\u001b[1;33m(\u001b[0m\u001b[1;33m)\u001b[0m\u001b[1;33m\u001b[0m\u001b[1;33m\u001b[0m\u001b[0m\n\u001b[0;32m     17\u001b[0m \u001b[1;33m\u001b[0m\u001b[0m\n",
      "\u001b[1;32mC:\\Users\\LINGDA~1\\AppData\\Local\\Temp/ipykernel_25196/4091685376.py\u001b[0m in \u001b[0;36mconstruct_A_k\u001b[1;34m(self)\u001b[0m\n\u001b[0;32m     38\u001b[0m \u001b[1;33m\u001b[0m\u001b[0m\n\u001b[0;32m     39\u001b[0m         \u001b[1;32mfor\u001b[0m \u001b[0mfreq\u001b[0m \u001b[1;32min\u001b[0m \u001b[0mrange\u001b[0m\u001b[1;33m(\u001b[0m\u001b[0mself\u001b[0m\u001b[1;33m.\u001b[0m\u001b[0mmax_freq\u001b[0m\u001b[1;33m)\u001b[0m\u001b[1;33m:\u001b[0m\u001b[1;33m\u001b[0m\u001b[1;33m\u001b[0m\u001b[0m\n\u001b[1;32m---> 40\u001b[1;33m             \u001b[0mself\u001b[0m\u001b[1;33m.\u001b[0m\u001b[0mA_k\u001b[0m\u001b[1;33m[\u001b[0m\u001b[0mfreq\u001b[0m\u001b[1;33m,\u001b[0m \u001b[1;33m:\u001b[0m\u001b[1;33m,\u001b[0m \u001b[1;33m:\u001b[0m\u001b[1;33m]\u001b[0m \u001b[1;33m=\u001b[0m \u001b[0mself\u001b[0m\u001b[1;33m.\u001b[0m\u001b[0mgraph\u001b[0m \u001b[1;33m*\u001b[0m \u001b[0mnp\u001b[0m\u001b[1;33m.\u001b[0m\u001b[0mexp\u001b[0m\u001b[1;33m(\u001b[0m\u001b[1;36m1j\u001b[0m \u001b[1;33m*\u001b[0m \u001b[1;33m(\u001b[0m\u001b[0mfreq\u001b[0m \u001b[1;33m+\u001b[0m \u001b[1;36m1\u001b[0m\u001b[1;33m)\u001b[0m \u001b[1;33m*\u001b[0m \u001b[0mself\u001b[0m\u001b[1;33m.\u001b[0m\u001b[0malpha_struc\u001b[0m\u001b[1;33m)\u001b[0m\u001b[1;33m\u001b[0m\u001b[1;33m\u001b[0m\u001b[0m\n\u001b[0m\u001b[0;32m     41\u001b[0m             _, eigen_vec = eigh(\n\u001b[0;32m     42\u001b[0m                 \u001b[0mself\u001b[0m\u001b[1;33m.\u001b[0m\u001b[0mA_k\u001b[0m\u001b[1;33m[\u001b[0m\u001b[0mfreq\u001b[0m\u001b[1;33m,\u001b[0m \u001b[1;33m:\u001b[0m\u001b[1;33m,\u001b[0m \u001b[1;33m:\u001b[0m\u001b[1;33m]\u001b[0m\u001b[1;33m,\u001b[0m\u001b[1;33m\u001b[0m\u001b[1;33m\u001b[0m\u001b[0m\n",
      "\u001b[1;31mKeyboardInterrupt\u001b[0m: "
     ]
    }
   ],
   "source": [
    "for i in range(2, 16):\n",
    "    for j in range(2, 41):\n",
    "        start = time.perf_counter()\n",
    "        for t in range(n_sample):\n",
    "            p = i * np.log(n) / n\n",
    "            q = j * np.log(n) / n\n",
    "            sbm_probs = q * np.ones((M, M)) + (p - q) * np.eye(M)\n",
    "            mfsc = MFSC_ContAng(\n",
    "                size_of_clusters=b_sizes,\n",
    "                probs_of_sbm=sbm_probs,\n",
    "                max_freq=max_freq,\n",
    "                num_of_clusters=M\n",
    "            )\n",
    "            mfsc.generate_angles()\n",
    "            mfsc.construct_A_k()\n",
    "            mfsc.mfcpqr()\n",
    "\n",
    "            if (mfsc.cluster_id[:b_sizes[0]].sum() == 0 and mfsc.cluster_id[b_sizes[0]:].sum() == b_sizes[1]) \\\n",
    "                    or (\n",
    "                    mfsc.cluster_id[:b_sizes[0]].sum() == b_sizes[0] and mfsc.cluster_id[b_sizes[0]:].sum() == 0):\n",
    "                success_rate[j, i] += 1\n",
    "\n",
    "            angle_error_cluster = np.zeros(M)\n",
    "            for m in range(M):\n",
    "                tmp1 = np.exp(-1j*mfsc.estimated_angles[m * 500:(m + 1) * 500])\n",
    "                tmp2 = np.exp(1j*mfsc.true_angles_by_cluster[m])\n",
    "                d_ang = np.angle((tmp1*tmp2).mean())\n",
    "                angle_diff = np.abs(np.mod(mfsc.estimated_angles[m * 500:(m + 1) * 500] + d_ang, 2*np.pi)\n",
    "                                    - mfsc.true_angles_by_cluster[m])\n",
    "                angle_error_cluster[m] = np.min(np.vstack((angle_diff, 2*np.pi - angle_diff)), axis=0).max()\n",
    "                \n",
    "#                 angle_estimate = mfsc.estimated_angles[m * 500:(m + 1) * 500]\n",
    "#                 angle_true = mfsc.true_angles_by_cluster[m]\n",
    "#                 tmp = np.zeros(360)\n",
    "#                 for freq in range(360):\n",
    "#                     angle_diff = np.abs(np.mod(angle_estimate + freq*np.pi/180, 2*np.pi) - angle_true)\n",
    "#                     tmp[freq] = np.min(np.vstack((angle_diff, 2*np.pi - angle_diff)), axis=0).max()\n",
    "#                 angle_error_cluster[m] = np.min(tmp)\n",
    "\n",
    "            angle_error[j, i] += np.max(angle_error_cluster)\n",
    "\n",
    "        print(i, j, angle_error[j, i] / n_sample, success_rate[j, i] / n_sample)\n",
    "        print(\"cost %s second\" % (time.perf_counter() - start))\n"
   ]
  },
  {
   "cell_type": "code",
   "execution_count": null,
   "id": "5428d04a",
   "metadata": {
    "ExecuteTime": {
     "end_time": "2022-02-01T03:18:15.287303Z",
     "start_time": "2022-02-01T03:18:15.287303Z"
    }
   },
   "outputs": [],
   "source": [
    "plt.figure()\n",
    "plt.imshow(success_rate[2:41, 2:16][::-1, :] / n_sample, aspect='0.3', extent=[2, 15, 2, 40], cmap='gray')\n",
    "plt.xlabel(r'$\\alpha$')\n",
    "plt.ylabel(r'$\\beta$')\n",
    "plt.colorbar()\n",
    "plt.grid(linestyle = '--')\n",
    "plt.show()\n",
    "plt.savefig(\"exact_recovery_MFCPQR_ContAng\")"
   ]
  },
  {
   "cell_type": "code",
   "execution_count": null,
   "id": "c7842c5a",
   "metadata": {
    "ExecuteTime": {
     "end_time": "2022-02-01T03:18:15.288304Z",
     "start_time": "2022-02-01T03:18:15.288304Z"
    }
   },
   "outputs": [],
   "source": [
    "initial_cmap = cm.get_cmap('gray')\n",
    "reversed_cmap=initial_cmap.reversed()\n",
    "plt.figure()\n",
    "plt.imshow(angle_error[2:41, 2:16][::-1, :] / n_sample, aspect='0.3', extent=[2, 15, 2, 40], cmap=reversed_cmap)\n",
    "plt.xlabel(r'$\\alpha$')\n",
    "plt.ylabel(r'$\\beta$')\n",
    "plt.colorbar()\n",
    "plt.grid(linestyle = '--')\n",
    "plt.show()\n",
    "plt.savefig(\"angle_recovery_MFCPQR\")"
   ]
  },
  {
   "cell_type": "code",
   "execution_count": null,
   "id": "ef3db7e1",
   "metadata": {
    "ExecuteTime": {
     "end_time": "2022-01-31T18:47:47.427196Z",
     "start_time": "2022-01-31T18:47:47.427196Z"
    }
   },
   "outputs": [],
   "source": []
  },
  {
   "cell_type": "code",
   "execution_count": null,
   "id": "0354105b",
   "metadata": {},
   "outputs": [],
   "source": [
    "[[A,B],[C,D]]"
   ]
  },
  {
   "cell_type": "code",
   "execution_count": 2,
   "id": "e47d3751",
   "metadata": {
    "ExecuteTime": {
     "end_time": "2022-02-02T17:12:32.151182Z",
     "start_time": "2022-02-02T17:12:32.146182Z"
    }
   },
   "outputs": [
    {
     "data": {
      "text/plain": [
       "0.27631021115928545"
      ]
     },
     "execution_count": 2,
     "metadata": {},
     "output_type": "execute_result"
    }
   ],
   "source": [
    "np.log(1000)/1000*40"
   ]
  },
  {
   "cell_type": "code",
   "execution_count": null,
   "id": "6682644e",
   "metadata": {},
   "outputs": [],
   "source": []
  }
 ],
 "metadata": {
  "kernelspec": {
   "display_name": "Python 3 (ipykernel)",
   "language": "python",
   "name": "python3"
  },
  "language_info": {
   "codemirror_mode": {
    "name": "ipython",
    "version": 3
   },
   "file_extension": ".py",
   "mimetype": "text/x-python",
   "name": "python",
   "nbconvert_exporter": "python",
   "pygments_lexer": "ipython3",
   "version": "3.7.11"
  },
  "latex_envs": {
   "LaTeX_envs_menu_present": true,
   "autoclose": false,
   "autocomplete": true,
   "bibliofile": "biblio.bib",
   "cite_by": "apalike",
   "current_citInitial": 1,
   "eqLabelWithNumbers": true,
   "eqNumInitial": 1,
   "hotkeys": {
    "equation": "Ctrl-E",
    "itemize": "Ctrl-I"
   },
   "labels_anchors": false,
   "latex_user_defs": false,
   "report_style_numbering": false,
   "user_envs_cfg": false
  },
  "toc": {
   "base_numbering": 1,
   "nav_menu": {},
   "number_sections": true,
   "sideBar": true,
   "skip_h1_title": false,
   "title_cell": "Table of Contents",
   "title_sidebar": "Contents",
   "toc_cell": false,
   "toc_position": {},
   "toc_section_display": true,
   "toc_window_display": false
  },
  "varInspector": {
   "cols": {
    "lenName": 16,
    "lenType": 16,
    "lenVar": 40
   },
   "kernels_config": {
    "python": {
     "delete_cmd_postfix": "",
     "delete_cmd_prefix": "del ",
     "library": "var_list.py",
     "varRefreshCmd": "print(var_dic_list())"
    },
    "r": {
     "delete_cmd_postfix": ") ",
     "delete_cmd_prefix": "rm(",
     "library": "var_list.r",
     "varRefreshCmd": "cat(var_dic_list()) "
    }
   },
   "types_to_exclude": [
    "module",
    "function",
    "builtin_function_or_method",
    "instance",
    "_Feature"
   ],
   "window_display": false
  }
 },
 "nbformat": 4,
 "nbformat_minor": 5
}
