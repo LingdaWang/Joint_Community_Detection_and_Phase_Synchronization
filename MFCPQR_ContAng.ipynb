{
 "cells": [
  {
   "cell_type": "code",
   "execution_count": null,
   "id": "9807bac5",
   "metadata": {
    "ExecuteTime": {
     "end_time": "2022-02-08T02:37:24.428735Z",
     "start_time": "2022-02-08T02:37:24.049669Z"
    }
   },
   "outputs": [],
   "source": [
    "import numpy as np\n",
    "import matplotlib.pyplot as plt\n",
    "from numpy.fft import ifft,fft\n",
    "from scipy.linalg import eigh\n",
    "import random\n",
    "from networkx.generators.community import stochastic_block_model\n",
    "from networkx.linalg.graphmatrix import adjacency_matrix\n",
    "from numpy.linalg import norm\n",
    "from matplotlib import cm\n",
    "import time\n",
    "import pickle\n",
    "# set random seeds\n",
    "# random.seed(11)\n",
    "# np.random.seed(11)"
   ]
  },
  {
   "cell_type": "code",
   "execution_count": null,
   "id": "4265bba7",
   "metadata": {
    "ExecuteTime": {
     "end_time": "2022-02-08T02:37:24.444738Z",
     "start_time": "2022-02-08T02:37:24.429736Z"
    }
   },
   "outputs": [],
   "source": [
    "class MFSC_ContAng:\n",
    "\n",
    "    def __init__(self, size_of_clusters, probs_of_sbm, max_freq, num_of_clusters):\n",
    "\n",
    "        self.graph = np.asarray(adjacency_matrix(stochastic_block_model(size_of_clusters, probs_of_sbm)).todense())\n",
    "        self.true_angles_by_cluster = dict()\n",
    "        self.size_of_clusters = size_of_clusters\n",
    "        self.N = size_of_clusters.sum()\n",
    "        self.max_freq = max_freq\n",
    "        self.num_of_clusters = num_of_clusters\n",
    "        self.alpha_struc = None\n",
    "        self.A_k = np.zeros((2 * self.max_freq + 1, self.N, self.N), dtype='complex_')\n",
    "        self.Phi = np.zeros((2 * self.max_freq + 1, self.num_of_clusters, self.N), dtype='complex_')\n",
    "        self.Pi = np.eye(self.N)\n",
    "        self.cluster_id = None\n",
    "        self.estimated_angles = None\n",
    "        self.Rf = np.zeros((360, self.num_of_clusters, self.N), dtype='complex_')\n",
    "        \n",
    "    def generate_angles(self):\n",
    "\n",
    "        self.alpha_struc = np.random.uniform(low=0, high=2*np.pi, size=(self.N, self.N))\n",
    "        self.alpha_struc[np.tril_indices(self.N)] = 0\n",
    "        self.alpha_struc = self.alpha_struc + np.mod(-self.alpha_struc.T, 2*np.pi)\n",
    "        start_idx, end_idx = 0, 0\n",
    "        for idx, b_size in enumerate(self.size_of_clusters):\n",
    "            end_idx += b_size\n",
    "            alphas = np.random.uniform(low=0, high=2*np.pi, size=b_size)\n",
    "            self.true_angles_by_cluster.setdefault(idx, alphas)\n",
    "            self.alpha_struc[start_idx:end_idx, start_idx:end_idx] = np.mod(\n",
    "                alphas.reshape(-1, 1) - alphas,\n",
    "                2*np.pi\n",
    "            )\n",
    "            start_idx += b_size\n",
    "\n",
    "        return None\n",
    "    \n",
    "    def construct_A_k(self):\n",
    "\n",
    "        for freq in range(self.max_freq + 1):\n",
    "            self.A_k[freq, :, :] = self.graph * np.exp(1j * freq * self.alpha_struc)\n",
    "            _, eigen_vec = eigh(\n",
    "                self.A_k[freq, :, :],\n",
    "                subset_by_index=[self.N - self.num_of_clusters, self.N - 1]\n",
    "            )\n",
    "            self.Phi[freq, :, :] = eigen_vec.T\n",
    "            if freq > 0:\n",
    "                self.A_k[2 * self.max_freq + 1 - freq, :, :] = np.conjugate(self.A_k[freq, :, :])\n",
    "                self.Phi[2 * self.max_freq + 1 - freq, :, :] = np.conjugate(eigen_vec.T)\n",
    "        \n",
    "        return None\n",
    "    \n",
    "    def mfcpqr(self):\n",
    "\n",
    "        R = self.Phi.copy()\n",
    "        for m in range(self.num_of_clusters):\n",
    "            norm_sum = norm(R[:, m:, m:], axis=1).sum(axis=0)\n",
    "            piv = np.argmax(norm_sum) + m\n",
    "            R[:, :, [piv, m]] = R[:, :, [m, piv]]\n",
    "            self.Pi[:, [piv, m]] = self.Pi[:, [m, piv]]\n",
    "            for freq in range(self.max_freq + 1):\n",
    "                _, tRm = MFSC_ContAng.qr_method_one_step(R[freq, m:, m:])\n",
    "                R[freq, m:, m:] = tRm\n",
    "                if freq > 0:\n",
    "                    R[2 * self.max_freq + 1 - freq, m:, m:] = np.conjugate(tRm)\n",
    "                    \n",
    "                    \n",
    "\n",
    "        self.Rf[:self.max_freq+1, :, :] = R[:self.max_freq+1, :, :] @ self.Pi.T\n",
    "        for freq in range(1, self.max_freq + 1):\n",
    "            self.Rf[360-freq, :, :] = np.conjugate(self.Rf[freq, :, :])\n",
    "            \n",
    "        fft_R = fft(self.Rf, axis=0).real\n",
    "        self.cluster_id = np.argmax(np.max(fft_R, axis=0), axis=0)\n",
    "        self.estimated_angles = np.pi * np.argmax(fft_R, axis=0)[self.cluster_id, np.array(range(self.N))] / 180\n",
    "\n",
    "        return None\n",
    "\n",
    "    @staticmethod\n",
    "    def qr_method_one_step(X):\n",
    "\n",
    "        m, _ = X.shape\n",
    "        r = X[:, 0]\n",
    "        alpha = -np.exp(1j * np.angle(r[0])) * norm(r)\n",
    "        e1 = np.zeros(m)\n",
    "        e1[0] = 1\n",
    "        u = r - alpha * e1\n",
    "        v = u / norm(u)\n",
    "        Q = np.eye(m) - 2 * v.reshape(-1, 1) @ np.conjugate(v).reshape(1, -1)\n",
    "        R = Q @ X\n",
    "        R[0, :] = np.exp(-1j * np.angle(R[0, 0])) * R[0, :]\n",
    "\n",
    "        return Q, R\n",
    "    \n",
    "    "
   ]
  },
  {
   "cell_type": "code",
   "execution_count": null,
   "id": "b2d8d00a",
   "metadata": {
    "ExecuteTime": {
     "end_time": "2022-02-08T02:37:24.475156Z",
     "start_time": "2022-02-08T02:37:24.445749Z"
    }
   },
   "outputs": [],
   "source": [
    "n_sample = 20\n",
    "b_sizes = np.array([500, 500])\n",
    "n = b_sizes.sum()\n",
    "M = 2\n",
    "max_freq = 5\n",
    "success_rate = np.zeros((41, 16))\n",
    "angle_error = np.zeros((41, 16))"
   ]
  },
  {
   "cell_type": "code",
   "execution_count": null,
   "id": "7fb766be",
   "metadata": {
    "ExecuteTime": {
     "end_time": "2022-02-08T02:45:14.357274Z",
     "start_time": "2022-02-08T02:37:24.476156Z"
    }
   },
   "outputs": [],
   "source": [
    "for i in range(2, 16):\n",
    "    for j in range(2, 41):\n",
    "        start = time.perf_counter()\n",
    "        for t in range(n_sample):\n",
    "            p = i * np.log(n) / n\n",
    "            q = j * np.log(n) / n\n",
    "            sbm_probs = q * np.ones((M, M)) + (p - q) * np.eye(M)\n",
    "            mfsc = MFSC_ContAng(\n",
    "                size_of_clusters=b_sizes,\n",
    "                probs_of_sbm=sbm_probs,\n",
    "                max_freq=max_freq,\n",
    "                num_of_clusters=M\n",
    "            )\n",
    "            mfsc.generate_angles()\n",
    "            mfsc.construct_A_k()\n",
    "            mfsc.mfcpqr()\n",
    "\n",
    "            if (mfsc.cluster_id[:b_sizes[0]].sum() == 0 and mfsc.cluster_id[b_sizes[0]:].sum() == b_sizes[1]) \\\n",
    "                    or (\n",
    "                    mfsc.cluster_id[:b_sizes[0]].sum() == b_sizes[0] and mfsc.cluster_id[b_sizes[0]:].sum() == 0):\n",
    "                success_rate[j, i] += 1\n",
    "\n",
    "            angle_error_cluster = np.zeros(M)\n",
    "            for m in range(M):\n",
    "                tmp1 = np.exp(-1j*mfsc.estimated_angles[m * 500:(m + 1) * 500])\n",
    "                tmp2 = np.exp(1j*mfsc.true_angles_by_cluster[m])\n",
    "                d_ang = np.angle((tmp1*tmp2).mean())\n",
    "                angle_diff = np.abs(np.mod(mfsc.estimated_angles[m * 500:(m + 1) * 500] + d_ang, 2*np.pi)\n",
    "                                    - mfsc.true_angles_by_cluster[m])\n",
    "                angle_error_cluster[m] = np.min(np.vstack((angle_diff, 2*np.pi - angle_diff)), axis=0).max()\n",
    "                \n",
    "#                 angle_estimate = mfsc.estimated_angles[m * 500:(m + 1) * 500]\n",
    "#                 angle_true = mfsc.true_angles_by_cluster[m]\n",
    "#                 tmp = np.zeros(360)\n",
    "#                 for freq in range(360):\n",
    "#                     angle_diff = np.abs(np.mod(angle_estimate + freq*np.pi/180, 2*np.pi) - angle_true)\n",
    "#                     tmp[freq] = np.min(np.vstack((angle_diff, 2*np.pi - angle_diff)), axis=0).max()\n",
    "#                 angle_error_cluster[m] = np.min(tmp)\n",
    "\n",
    "            angle_error[j, i] += np.max(angle_error_cluster)\n",
    "\n",
    "        print(i, j, angle_error[j, i] / n_sample, success_rate[j, i] / n_sample)\n",
    "        print(\"cost %s second\" % (time.perf_counter() - start))\n"
   ]
  },
  {
   "cell_type": "code",
   "execution_count": null,
   "id": "5428d04a",
   "metadata": {
    "ExecuteTime": {
     "end_time": "2022-02-08T02:45:14.360275Z",
     "start_time": "2022-02-08T02:45:14.360275Z"
    }
   },
   "outputs": [],
   "source": [
    "plt.figure()\n",
    "plt.imshow(success_rate[2:41, 2:16][::-1, :] / n_sample, aspect='0.3', extent=[2, 15, 2, 40], cmap='gray')\n",
    "plt.xlabel(r'$\\alpha$')\n",
    "plt.ylabel(r'$\\beta$')\n",
    "plt.colorbar()\n",
    "plt.grid(linestyle = '--')\n",
    "plt.savefig(\"exact_recovery_MFCPQR_ContAng_K2\")"
   ]
  },
  {
   "cell_type": "code",
   "execution_count": null,
   "id": "c7842c5a",
   "metadata": {
    "ExecuteTime": {
     "end_time": "2022-02-08T02:45:14.361275Z",
     "start_time": "2022-02-08T02:45:14.361275Z"
    }
   },
   "outputs": [],
   "source": [
    "initial_cmap = cm.get_cmap('gray')\n",
    "reversed_cmap=initial_cmap.reversed()\n",
    "plt.figure()\n",
    "plt.imshow(angle_error[2:41, 2:16][::-1, :] / n_sample, aspect='0.3', extent=[2, 15, 2, 40], cmap=reversed_cmap)\n",
    "plt.xlabel(r'$\\alpha$')\n",
    "plt.ylabel(r'$\\beta$')\n",
    "plt.colorbar()\n",
    "plt.grid(linestyle = '--')\n",
    "plt.savefig(\"angle_recovery_MFCPQR_ContAng_K2\")"
   ]
  },
  {
   "cell_type": "code",
   "execution_count": null,
   "id": "ef3db7e1",
   "metadata": {
    "ExecuteTime": {
     "end_time": "2022-02-08T02:45:14.362275Z",
     "start_time": "2022-02-08T02:45:14.362275Z"
    }
   },
   "outputs": [],
   "source": [
    "file = open('exact_recovery_MFCPQR_ContAng_maxfreq_2.pickle', 'wb')\n",
    "pickle.dump(success_rate, file)\n",
    "file.close()"
   ]
  },
  {
   "cell_type": "code",
   "execution_count": null,
   "id": "0354105b",
   "metadata": {
    "ExecuteTime": {
     "end_time": "2022-02-08T02:45:14.363431Z",
     "start_time": "2022-02-08T02:45:14.363431Z"
    }
   },
   "outputs": [],
   "source": [
    "file = open('angle_recovery_MFCPQR_ContAng_maxfreq_2.pickle', 'wb')\n",
    "pickle.dump(angle_error, file)\n",
    "file.close()"
   ]
  },
  {
   "cell_type": "code",
   "execution_count": null,
   "id": "e47d3751",
   "metadata": {
    "ExecuteTime": {
     "end_time": "2022-02-08T02:45:14.364277Z",
     "start_time": "2022-02-08T02:45:14.364277Z"
    }
   },
   "outputs": [],
   "source": [
    "8 2 0.02061695755357108 1.0\n",
    "cost 18.3407292 second\n",
    "8 3 0.028295518719684686 1.0\n",
    "cost 18.2902992 second\n",
    "8 4 0.033772509884488114 1.0\n",
    "cost 18.501191900000002 second\n",
    "8 5 0.4636231375231497 0.75\n",
    "cost 19.0086413 second\n",
    "8 6 1.8856554375462984 0.05\n",
    "cost 18.780373499999996 second\n",
    "8 7 2.0718592232809625 0.1\n",
    "cost 18.906610400000005 second\n",
    "8 8 2.300334539411769 0.05\n",
    "cost 18.916094699999988 second"
   ]
  },
  {
   "cell_type": "code",
   "execution_count": null,
   "id": "6682644e",
   "metadata": {},
   "outputs": [],
   "source": []
  }
 ],
 "metadata": {
  "kernelspec": {
   "display_name": "Python 3 (ipykernel)",
   "language": "python",
   "name": "python3"
  },
  "language_info": {
   "codemirror_mode": {
    "name": "ipython",
    "version": 3
   },
   "file_extension": ".py",
   "mimetype": "text/x-python",
   "name": "python",
   "nbconvert_exporter": "python",
   "pygments_lexer": "ipython3",
   "version": "3.7.11"
  },
  "latex_envs": {
   "LaTeX_envs_menu_present": true,
   "autoclose": false,
   "autocomplete": true,
   "bibliofile": "biblio.bib",
   "cite_by": "apalike",
   "current_citInitial": 1,
   "eqLabelWithNumbers": true,
   "eqNumInitial": 1,
   "hotkeys": {
    "equation": "Ctrl-E",
    "itemize": "Ctrl-I"
   },
   "labels_anchors": false,
   "latex_user_defs": false,
   "report_style_numbering": false,
   "user_envs_cfg": false
  },
  "toc": {
   "base_numbering": 1,
   "nav_menu": {},
   "number_sections": true,
   "sideBar": true,
   "skip_h1_title": false,
   "title_cell": "Table of Contents",
   "title_sidebar": "Contents",
   "toc_cell": false,
   "toc_position": {},
   "toc_section_display": true,
   "toc_window_display": false
  },
  "varInspector": {
   "cols": {
    "lenName": 16,
    "lenType": 16,
    "lenVar": 40
   },
   "kernels_config": {
    "python": {
     "delete_cmd_postfix": "",
     "delete_cmd_prefix": "del ",
     "library": "var_list.py",
     "varRefreshCmd": "print(var_dic_list())"
    },
    "r": {
     "delete_cmd_postfix": ") ",
     "delete_cmd_prefix": "rm(",
     "library": "var_list.r",
     "varRefreshCmd": "cat(var_dic_list()) "
    }
   },
   "types_to_exclude": [
    "module",
    "function",
    "builtin_function_or_method",
    "instance",
    "_Feature"
   ],
   "window_display": false
  }
 },
 "nbformat": 4,
 "nbformat_minor": 5
}
