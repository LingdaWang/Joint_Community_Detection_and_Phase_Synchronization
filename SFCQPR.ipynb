{
 "cells": [
  {
   "cell_type": "code",
   "execution_count": null,
   "id": "d4fb2514",
   "metadata": {
    "ExecuteTime": {
     "end_time": "2022-02-01T21:16:57.838306Z",
     "start_time": "2022-02-01T21:16:57.478726Z"
    }
   },
   "outputs": [],
   "source": [
    "%matplotlib inline\n",
    "import numpy as np\n",
    "import matplotlib.pyplot as plt\n",
    "import random\n",
    "from networkx.generators.community import stochastic_block_model\n",
    "from networkx.linalg.graphmatrix import adjacency_matrix\n",
    "from numpy.linalg import norm\n",
    "from scipy.linalg import eigh\n",
    "from matplotlib import cm \n",
    "# set random seeds\n",
    "# random.seed(11)\n",
    "# np.random.seed(11)"
   ]
  },
  {
   "cell_type": "code",
   "execution_count": null,
   "id": "9fa02428",
   "metadata": {
    "ExecuteTime": {
     "end_time": "2022-02-01T21:16:57.854425Z",
     "start_time": "2022-02-01T21:16:57.839308Z"
    }
   },
   "outputs": [],
   "source": [
    "class SFSC:\n",
    "\n",
    "    def __init__(self, size_of_clusters, probs_of_sbm, max_freq, num_of_clusters):\n",
    "\n",
    "        self.graph = np.asarray(adjacency_matrix(stochastic_block_model(size_of_clusters, probs_of_sbm)).todense())\n",
    "        self.true_angles_by_cluster = dict()\n",
    "        self.size_of_clusters = size_of_clusters\n",
    "        self.N = size_of_clusters.sum()\n",
    "        self.max_freq = max_freq\n",
    "        self.num_of_clusters = num_of_clusters\n",
    "        self.alpha_struc = None\n",
    "        self.A_k = None\n",
    "        self.Phi = None\n",
    "        self.d_alpha = 2 * np.pi / self.max_freq\n",
    "        self.Pi = np.eye(self.N)\n",
    "        self.Rf = None\n",
    "        self.cluster_id = None\n",
    "        self.estimated_angles = None\n",
    "\n",
    "    def generate_angles(self):\n",
    "\n",
    "        self.alpha_struc = np.random.randint(self.max_freq, size=(self.N, self.N))\n",
    "        self.alpha_struc[np.tril_indices(self.N)] = 0\n",
    "        self.alpha_struc = self.alpha_struc + np.mod(-self.alpha_struc.T, self.max_freq)\n",
    "        start_idx, end_idx = 0, 0\n",
    "        for idx, b_size in enumerate(self.size_of_clusters):\n",
    "            end_idx += b_size\n",
    "            alphas = np.random.randint(self.max_freq, size=b_size)\n",
    "            self.true_angles_by_cluster.setdefault(idx, alphas)\n",
    "            self.alpha_struc[start_idx:end_idx, start_idx:end_idx] = np.mod(\n",
    "                alphas.reshape(-1, 1) - alphas,\n",
    "                self.max_freq\n",
    "            )\n",
    "            start_idx += b_size\n",
    "\n",
    "        return None\n",
    "\n",
    "    def construct_A_k(self):\n",
    "\n",
    "        self.A_k = self.graph * np.exp(self.alpha_struc * 1j * self.d_alpha)\n",
    "        _, eigen_vec = eigh(\n",
    "            self.A_k,\n",
    "            subset_by_index=[self.N - self.num_of_clusters, self.N - 1]\n",
    "        )\n",
    "        self.Phi = eigen_vec.T\n",
    "\n",
    "        return None\n",
    "    \n",
    "    def cpqr(self):\n",
    "\n",
    "        R = self.Phi.copy()\n",
    "        for m in range(self.num_of_clusters):\n",
    "            norm_sum = norm(R[m:, m:], axis=0)\n",
    "            piv = np.argmax(norm_sum) + m\n",
    "            R[:, [piv, m]] = R[:, [m, piv]]\n",
    "            self.Pi[:, [piv, m]] = self.Pi[:, [m, piv]]\n",
    "            _, tRm = SFSC.qr_method_one_step(R[m:, m:])\n",
    "            R[m:, m:] = tRm\n",
    "\n",
    "        self.Rf = R @ self.Pi.T\n",
    "        self.cluster_id = np.argmax(np.abs(self.Rf), axis=0)\n",
    "#         Phi_tmp = np.conjugate(self.Phi)\n",
    "        self.estimated_angles = np.angle(self.Rf[self.cluster_id, np.array(range(self.N))])\n",
    "\n",
    "        return None\n",
    "    \n",
    "    @staticmethod\n",
    "    def qr_method_one_step(X):\n",
    "\n",
    "        m, _ = X.shape\n",
    "        r = X[:, 0]\n",
    "        alpha = -np.exp(1j * np.angle(r[0])) * norm(r)\n",
    "        e1 = np.zeros(m)\n",
    "        e1[0] = 1\n",
    "        u = r - alpha * e1\n",
    "        v = u / norm(u)\n",
    "        Q = np.eye(m) - 2 * v.reshape(-1, 1) @ np.conjugate(v).reshape(1, -1)\n",
    "        R = Q @ X\n",
    "        R[0, :] = np.exp(-1j * np.angle(R[0, 0])) * R[0, :]\n",
    "\n",
    "        return Q, R"
   ]
  },
  {
   "cell_type": "code",
   "execution_count": null,
   "id": "339b65f0",
   "metadata": {
    "ExecuteTime": {
     "end_time": "2022-02-01T21:16:57.885092Z",
     "start_time": "2022-02-01T21:16:57.856382Z"
    }
   },
   "outputs": [],
   "source": [
    "b_sizes = np.array([500, 500])\n",
    "n = b_sizes.sum()\n",
    "M = 2\n",
    "max_freq = 33\n",
    "success_rate = np.zeros((41, 16))\n",
    "angle_error = np.zeros((41, 16))\n",
    "d_alpha = 2 * np.pi / max_freq"
   ]
  },
  {
   "cell_type": "code",
   "execution_count": null,
   "id": "e63bd79f",
   "metadata": {
    "ExecuteTime": {
     "end_time": "2022-02-01T21:24:00.856573Z",
     "start_time": "2022-02-01T21:16:57.886093Z"
    }
   },
   "outputs": [],
   "source": [
    "n_sample = 20\n",
    "for i in range(2, 16):\n",
    "    for j in range(2, 41):\n",
    "        for t in range(n_sample):\n",
    "            p = i * np.log(n) / n\n",
    "            q = j * np.log(n) / n\n",
    "            sbm_probs = q * np.ones((M, M)) + (p - q) * np.eye(M)\n",
    "            sfsc = SFSC(b_sizes, sbm_probs, max_freq, M)\n",
    "            sfsc.generate_angles()\n",
    "            sfsc.construct_A_k()\n",
    "            sfsc.cpqr()\n",
    "            if (sfsc.cluster_id[:500].sum() == 0 and sfsc.cluster_id[500:].sum() == 500) \\\n",
    "                    or (sfsc.cluster_id[:500].sum() == 500 and sfsc.cluster_id[500:].sum() == 0):\n",
    "                success_rate[j, i] += 1\n",
    "\n",
    "            angle_error_cluster = np.zeros(M)\n",
    "            for m in range(M):\n",
    "                tmp1 = np.exp(-1j*sfsc.estimated_angles[m * 500:(m + 1) * 500])\n",
    "                tmp2 = np.exp(1j*sfsc.true_angles_by_cluster[m]*d_alpha)\n",
    "                d_ang = np.angle((tmp1*tmp2).mean())\n",
    "                angle_diff = np.abs(np.mod(sfsc.estimated_angles[m * 500:(m + 1) * 500] + d_ang, 2*np.pi)\n",
    "                                    - sfsc.true_angles_by_cluster[m]*d_alpha)\n",
    "                angle_error_cluster[m] = np.min(np.vstack((angle_diff, 2*np.pi - angle_diff)), axis=0).max()\n",
    "                \n",
    "#                 angle_estimate = sfsc.estimated_angles[m * 500:(m + 1) * 500]\n",
    "#                 angle_true = sfsc.true_angles_by_cluster[m]\n",
    "#                 tmp = np.zeros(360)\n",
    "#                 for freq in range(360):\n",
    "#                     angle_diff = np.abs(np.mod(angle_estimate + freq*np.pi/180, 2*np.pi) - angle_true*d_alpha)\n",
    "#                     tmp[freq] = np.min(np.vstack((angle_diff, 2*np.pi - angle_diff)), axis=0).max()\n",
    "                    \n",
    "    \n",
    "#                 angle_error_cluster[m] = np.min(tmp) \n",
    "                \n",
    "            angle_error[j, i] += np.max(angle_error_cluster)\n",
    "\n",
    "        print(i, j, angle_error[j, i] / n_sample, success_rate[j, i] / n_sample)"
   ]
  },
  {
   "cell_type": "code",
   "execution_count": null,
   "id": "747fcbbc",
   "metadata": {
    "ExecuteTime": {
     "end_time": "2022-02-01T21:26:42.771710Z",
     "start_time": "2022-02-01T21:26:42.642698Z"
    }
   },
   "outputs": [],
   "source": [
    "plt.figure()\n",
    "plt.imshow(success_rate[2:41, 2:16][::-1, :] / n_sample, aspect='0.3', cmap='gray')\n",
    "plt.xlabel(r'$\\alpha$')\n",
    "plt.ylabel(r'$\\beta$')\n",
    "plt.colorbar()\n",
    "plt.grid(linestyle = '--')\n",
    "plt.savefig(\"exact_recovery_SFCPQR\")"
   ]
  },
  {
   "cell_type": "code",
   "execution_count": null,
   "id": "cd2b6846",
   "metadata": {
    "ExecuteTime": {
     "end_time": "2022-02-01T21:24:00.859539Z",
     "start_time": "2022-02-01T21:24:00.859539Z"
    }
   },
   "outputs": [],
   "source": [
    "initial_cmap = cm.get_cmap('gray')\n",
    "reversed_cmap=initial_cmap.reversed()\n",
    "\n",
    "plt.figure()\n",
    "plt.imshow(angle_error[2:41, 2:16][::-1, :] / n_sample, aspect='0.3', extent=[2, 15, 2, 40], cmap=reversed_cmap)\n",
    "plt.xlabel(r'$\\alpha$')\n",
    "plt.ylabel(r'$\\beta$')\n",
    "plt.colorbar()\n",
    "plt.grid(linestyle = '--')\n",
    "plt.savefig(\"angle_recovery_SFCPQR\")"
   ]
  },
  {
   "cell_type": "code",
   "execution_count": null,
   "id": "ea63a707",
   "metadata": {
    "ExecuteTime": {
     "end_time": "2022-01-31T18:59:51.929018Z",
     "start_time": "2022-01-31T18:59:51.929018Z"
    }
   },
   "outputs": [],
   "source": []
  },
  {
   "cell_type": "code",
   "execution_count": null,
   "id": "e43a3f27",
   "metadata": {
    "ExecuteTime": {
     "end_time": "2022-01-31T23:09:44.479307Z",
     "start_time": "2022-01-31T23:09:44.479307Z"
    }
   },
   "outputs": [],
   "source": []
  }
 ],
 "metadata": {
  "kernelspec": {
   "display_name": "Python 3 (ipykernel)",
   "language": "python",
   "name": "python3"
  },
  "language_info": {
   "codemirror_mode": {
    "name": "ipython",
    "version": 3
   },
   "file_extension": ".py",
   "mimetype": "text/x-python",
   "name": "python",
   "nbconvert_exporter": "python",
   "pygments_lexer": "ipython3",
   "version": "3.7.11"
  },
  "latex_envs": {
   "LaTeX_envs_menu_present": true,
   "autoclose": false,
   "autocomplete": true,
   "bibliofile": "biblio.bib",
   "cite_by": "apalike",
   "current_citInitial": 1,
   "eqLabelWithNumbers": true,
   "eqNumInitial": 1,
   "hotkeys": {
    "equation": "Ctrl-E",
    "itemize": "Ctrl-I"
   },
   "labels_anchors": false,
   "latex_user_defs": false,
   "report_style_numbering": false,
   "user_envs_cfg": false
  },
  "toc": {
   "base_numbering": 1,
   "nav_menu": {},
   "number_sections": true,
   "sideBar": true,
   "skip_h1_title": false,
   "title_cell": "Table of Contents",
   "title_sidebar": "Contents",
   "toc_cell": false,
   "toc_position": {},
   "toc_section_display": true,
   "toc_window_display": false
  },
  "varInspector": {
   "cols": {
    "lenName": 16,
    "lenType": 16,
    "lenVar": 40
   },
   "kernels_config": {
    "python": {
     "delete_cmd_postfix": "",
     "delete_cmd_prefix": "del ",
     "library": "var_list.py",
     "varRefreshCmd": "print(var_dic_list())"
    },
    "r": {
     "delete_cmd_postfix": ") ",
     "delete_cmd_prefix": "rm(",
     "library": "var_list.r",
     "varRefreshCmd": "cat(var_dic_list()) "
    }
   },
   "types_to_exclude": [
    "module",
    "function",
    "builtin_function_or_method",
    "instance",
    "_Feature"
   ],
   "window_display": false
  }
 },
 "nbformat": 4,
 "nbformat_minor": 5
}
