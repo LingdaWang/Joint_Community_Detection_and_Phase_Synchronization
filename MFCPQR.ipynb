{
 "cells": [
  {
   "cell_type": "code",
   "execution_count": 1,
   "id": "52a085f3",
   "metadata": {
    "ExecuteTime": {
     "end_time": "2022-02-01T02:57:20.397629Z",
     "start_time": "2022-02-01T02:57:20.053547Z"
    }
   },
   "outputs": [],
   "source": [
    "%matplotlib inline\n",
    "import numpy as np\n",
    "import matplotlib.pyplot as plt\n",
    "from numpy.fft import fft\n",
    "from scipy.linalg import eigh\n",
    "import random\n",
    "from networkx.generators.community import stochastic_block_model\n",
    "from networkx.linalg.graphmatrix import adjacency_matrix\n",
    "from numpy.linalg import norm\n",
    "from matplotlib import cm\n",
    "import time\n",
    "# set random seeds\n",
    "# random.seed(11)\n",
    "# np.random.seed(11)"
   ]
  },
  {
   "cell_type": "code",
   "execution_count": 2,
   "id": "77efa555",
   "metadata": {
    "ExecuteTime": {
     "end_time": "2022-02-01T02:57:20.413312Z",
     "start_time": "2022-02-01T02:57:20.398629Z"
    }
   },
   "outputs": [],
   "source": [
    "class MFSC:\n",
    "\n",
    "    def __init__(self, size_of_clusters, probs_of_sbm, max_freq, num_of_clusters):\n",
    "\n",
    "        self.graph = np.asarray(adjacency_matrix(stochastic_block_model(size_of_clusters, probs_of_sbm)).todense())\n",
    "        self.true_angles_by_cluster = dict()\n",
    "        self.size_of_clusters = size_of_clusters\n",
    "        self.N = size_of_clusters.sum()\n",
    "        self.max_freq = max_freq\n",
    "        self.num_of_clusters = num_of_clusters\n",
    "        self.alpha_struc = None\n",
    "        self.A_k = np.zeros((self.max_freq, self.N, self.N), dtype='complex_')\n",
    "        self.Phi = np.zeros((self.max_freq, self.num_of_clusters, self.N), dtype='complex_')\n",
    "        self.d_alpha = 2 * np.pi / self.max_freq\n",
    "        self.Pi = np.eye(self.N)\n",
    "        self.Rf = np.zeros((self.max_freq, self.num_of_clusters, self.N), dtype='complex_')\n",
    "        self.cluster_id = None\n",
    "        self.estimated_angles = None\n",
    "\n",
    "    def generate_angles(self):\n",
    "\n",
    "        self.alpha_struc = np.random.randint(self.max_freq, size=(self.N, self.N))\n",
    "        self.alpha_struc[np.tril_indices(self.N)] = 0\n",
    "        self.alpha_struc = self.alpha_struc + np.mod(-self.alpha_struc.T, self.max_freq)\n",
    "        start_idx, end_idx = 0, 0\n",
    "        for idx, b_size in enumerate(self.size_of_clusters):\n",
    "            end_idx += b_size\n",
    "            alphas = np.random.randint(self.max_freq, size=b_size)\n",
    "            self.true_angles_by_cluster.setdefault(idx, alphas)\n",
    "            self.alpha_struc[start_idx:end_idx, start_idx:end_idx] = np.mod(\n",
    "                alphas.reshape(-1, 1) - alphas,\n",
    "                self.max_freq\n",
    "            )\n",
    "            start_idx += b_size\n",
    "\n",
    "        return None\n",
    "\n",
    "    def construct_A_k(self):\n",
    "\n",
    "        for freq in range(self.max_freq // 2 + 1):\n",
    "            self.A_k[freq, :, :] = self.graph * np.exp(self.alpha_struc * freq * 1j * self.d_alpha)\n",
    "            _, eigen_vec = eigh(\n",
    "                self.A_k[freq, :, :],\n",
    "                subset_by_index=[self.N - self.num_of_clusters, self.N - 1]\n",
    "            )\n",
    "            self.Phi[freq, :, :] = eigen_vec.T\n",
    "            if freq > 0:\n",
    "                self.A_k[self.max_freq - freq, :, :] = np.conjugate(self.A_k[freq, :, :])\n",
    "                self.Phi[self.max_freq - freq, :, :] = np.conjugate(eigen_vec.T)\n",
    "\n",
    "        return None\n",
    "\n",
    "    def mfcpqr(self):\n",
    "\n",
    "        R = self.Phi.copy()\n",
    "        for m in range(self.num_of_clusters):\n",
    "            norm_sum = norm(R[:, m:, m:], axis=1).sum(axis=0)\n",
    "            piv = np.argmax(norm_sum) + m\n",
    "            R[:, :, [piv, m]] = R[:, :, [m, piv]]\n",
    "            self.Pi[:, [piv, m]] = self.Pi[:, [m, piv]]\n",
    "            for freq in range(self.max_freq // 2 + 1):\n",
    "                _, tRm = MFSC.qr_method_one_step(R[freq, m:, m:])\n",
    "                R[freq, m:, m:] = tRm\n",
    "                if freq > 0:\n",
    "                    R[self.max_freq - freq, m:, m:] = np.conjugate(tRm)\n",
    "\n",
    "        self.Rf = R @ self.Pi.T\n",
    "\n",
    "        fft_R = np.abs(fft(self.Rf, axis=0))\n",
    "        self.cluster_id = np.argmax(np.max(fft_R, axis=0), axis=0)\n",
    "        self.estimated_angles = np.argmax(fft_R, axis=0)[self.cluster_id, np.array(range(self.N))]\n",
    "\n",
    "        return None\n",
    "\n",
    "    @staticmethod\n",
    "    def qr_method_one_step(X):\n",
    "\n",
    "        m, _ = X.shape\n",
    "        r = X[:, 0]\n",
    "        alpha = -np.exp(1j * np.angle(r[0])) * norm(r)\n",
    "        e1 = np.zeros(m)\n",
    "        e1[0] = 1\n",
    "        u = r - alpha * e1\n",
    "        v = u / norm(u)\n",
    "        Q = np.eye(m) - 2 * v.reshape(-1, 1) @ np.conjugate(v).reshape(1, -1)\n",
    "        R = Q @ X\n",
    "        R[0, :] = np.exp(-1j * np.angle(R[0, 0])) * R[0, :]\n",
    "\n",
    "        return Q, R\n",
    "        "
   ]
  },
  {
   "cell_type": "code",
   "execution_count": 3,
   "id": "9c0ac42c",
   "metadata": {
    "ExecuteTime": {
     "end_time": "2022-02-01T02:57:20.443666Z",
     "start_time": "2022-02-01T02:57:20.414453Z"
    }
   },
   "outputs": [],
   "source": [
    "n_sample = 20\n",
    "b_sizes = np.array([500, 500])\n",
    "n = b_sizes.sum()\n",
    "M = 2\n",
    "max_freq = 33\n",
    "d_alpha = 2 * np.pi / max_freq\n",
    "success_rate = np.zeros((41, 16))\n",
    "angle_error = np.zeros((41, 16))"
   ]
  },
  {
   "cell_type": "code",
   "execution_count": 4,
   "id": "9a11d5ba",
   "metadata": {
    "ExecuteTime": {
     "end_time": "2022-02-01T03:09:36.223203Z",
     "start_time": "2022-02-01T02:57:20.444666Z"
    }
   },
   "outputs": [
    {
     "name": "stdout",
     "output_type": "stream",
     "text": [
      "5 2 9.71445146547012e-16 1.0\n",
      "cost 103.074344 second\n",
      "5 3 9.43689570931383e-16 1.0\n",
      "cost 104.754435 second\n",
      "5 4 9.2148511043888e-16 1.0\n",
      "cost 103.35412360000004 second\n",
      "5 5 0.09510502592952634 0.95\n",
      "cost 103.85002650000001 second\n",
      "5 6 0.17127723395798564 0.85\n",
      "cost 103.36724959999998 second\n",
      "5 7 0.019002783912231907 0.95\n",
      "cost 103.74755589999995 second\n",
      "5 8 0.15220352510800783 0.9\n",
      "cost 104.6828246 second\n"
     ]
    },
    {
     "ename": "KeyboardInterrupt",
     "evalue": "",
     "output_type": "error",
     "traceback": [
      "\u001b[1;31m---------------------------------------------------------------------------\u001b[0m",
      "\u001b[1;31mKeyboardInterrupt\u001b[0m                         Traceback (most recent call last)",
      "\u001b[1;32mC:\\Users\\LINGDA~1\\AppData\\Local\\Temp/ipykernel_19180/3432932472.py\u001b[0m in \u001b[0;36m<module>\u001b[1;34m\u001b[0m\n\u001b[0;32m     13\u001b[0m             )\n\u001b[0;32m     14\u001b[0m             \u001b[0mmfsc\u001b[0m\u001b[1;33m.\u001b[0m\u001b[0mgenerate_angles\u001b[0m\u001b[1;33m(\u001b[0m\u001b[1;33m)\u001b[0m\u001b[1;33m\u001b[0m\u001b[1;33m\u001b[0m\u001b[0m\n\u001b[1;32m---> 15\u001b[1;33m             \u001b[0mmfsc\u001b[0m\u001b[1;33m.\u001b[0m\u001b[0mconstruct_A_k\u001b[0m\u001b[1;33m(\u001b[0m\u001b[1;33m)\u001b[0m\u001b[1;33m\u001b[0m\u001b[1;33m\u001b[0m\u001b[0m\n\u001b[0m\u001b[0;32m     16\u001b[0m             \u001b[0mmfsc\u001b[0m\u001b[1;33m.\u001b[0m\u001b[0mmfcpqr\u001b[0m\u001b[1;33m(\u001b[0m\u001b[1;33m)\u001b[0m\u001b[1;33m\u001b[0m\u001b[1;33m\u001b[0m\u001b[0m\n\u001b[0;32m     17\u001b[0m \u001b[1;33m\u001b[0m\u001b[0m\n",
      "\u001b[1;32mC:\\Users\\LINGDA~1\\AppData\\Local\\Temp/ipykernel_19180/1632165838.py\u001b[0m in \u001b[0;36mconstruct_A_k\u001b[1;34m(self)\u001b[0m\n\u001b[0;32m     42\u001b[0m             _, eigen_vec = eigh(\n\u001b[0;32m     43\u001b[0m                 \u001b[0mself\u001b[0m\u001b[1;33m.\u001b[0m\u001b[0mA_k\u001b[0m\u001b[1;33m[\u001b[0m\u001b[0mfreq\u001b[0m\u001b[1;33m,\u001b[0m \u001b[1;33m:\u001b[0m\u001b[1;33m,\u001b[0m \u001b[1;33m:\u001b[0m\u001b[1;33m]\u001b[0m\u001b[1;33m,\u001b[0m\u001b[1;33m\u001b[0m\u001b[1;33m\u001b[0m\u001b[0m\n\u001b[1;32m---> 44\u001b[1;33m                 \u001b[0msubset_by_index\u001b[0m\u001b[1;33m=\u001b[0m\u001b[1;33m[\u001b[0m\u001b[0mself\u001b[0m\u001b[1;33m.\u001b[0m\u001b[0mN\u001b[0m \u001b[1;33m-\u001b[0m \u001b[0mself\u001b[0m\u001b[1;33m.\u001b[0m\u001b[0mnum_of_clusters\u001b[0m\u001b[1;33m,\u001b[0m \u001b[0mself\u001b[0m\u001b[1;33m.\u001b[0m\u001b[0mN\u001b[0m \u001b[1;33m-\u001b[0m \u001b[1;36m1\u001b[0m\u001b[1;33m]\u001b[0m\u001b[1;33m\u001b[0m\u001b[1;33m\u001b[0m\u001b[0m\n\u001b[0m\u001b[0;32m     45\u001b[0m             )\n\u001b[0;32m     46\u001b[0m             \u001b[0mself\u001b[0m\u001b[1;33m.\u001b[0m\u001b[0mPhi\u001b[0m\u001b[1;33m[\u001b[0m\u001b[0mfreq\u001b[0m\u001b[1;33m,\u001b[0m \u001b[1;33m:\u001b[0m\u001b[1;33m,\u001b[0m \u001b[1;33m:\u001b[0m\u001b[1;33m]\u001b[0m \u001b[1;33m=\u001b[0m \u001b[0meigen_vec\u001b[0m\u001b[1;33m.\u001b[0m\u001b[0mT\u001b[0m\u001b[1;33m\u001b[0m\u001b[1;33m\u001b[0m\u001b[0m\n",
      "\u001b[1;32mC:\\ProgramData\\Anaconda3\\envs\\PyTorch\\lib\\site-packages\\scipy\\linalg\\decomp.py\u001b[0m in \u001b[0;36meigh\u001b[1;34m(a, b, lower, eigvals_only, overwrite_a, overwrite_b, turbo, eigvals, type, check_finite, subset_by_index, subset_by_value, driver)\u001b[0m\n\u001b[0;32m    443\u001b[0m                          ''.format(driver, '\", \"'.join(drv_str[1:])))\n\u001b[0;32m    444\u001b[0m \u001b[1;33m\u001b[0m\u001b[0m\n\u001b[1;32m--> 445\u001b[1;33m     \u001b[0ma1\u001b[0m \u001b[1;33m=\u001b[0m \u001b[0m_asarray_validated\u001b[0m\u001b[1;33m(\u001b[0m\u001b[0ma\u001b[0m\u001b[1;33m,\u001b[0m \u001b[0mcheck_finite\u001b[0m\u001b[1;33m=\u001b[0m\u001b[0mcheck_finite\u001b[0m\u001b[1;33m)\u001b[0m\u001b[1;33m\u001b[0m\u001b[1;33m\u001b[0m\u001b[0m\n\u001b[0m\u001b[0;32m    446\u001b[0m     \u001b[1;32mif\u001b[0m \u001b[0mlen\u001b[0m\u001b[1;33m(\u001b[0m\u001b[0ma1\u001b[0m\u001b[1;33m.\u001b[0m\u001b[0mshape\u001b[0m\u001b[1;33m)\u001b[0m \u001b[1;33m!=\u001b[0m \u001b[1;36m2\u001b[0m \u001b[1;32mor\u001b[0m \u001b[0ma1\u001b[0m\u001b[1;33m.\u001b[0m\u001b[0mshape\u001b[0m\u001b[1;33m[\u001b[0m\u001b[1;36m0\u001b[0m\u001b[1;33m]\u001b[0m \u001b[1;33m!=\u001b[0m \u001b[0ma1\u001b[0m\u001b[1;33m.\u001b[0m\u001b[0mshape\u001b[0m\u001b[1;33m[\u001b[0m\u001b[1;36m1\u001b[0m\u001b[1;33m]\u001b[0m\u001b[1;33m:\u001b[0m\u001b[1;33m\u001b[0m\u001b[1;33m\u001b[0m\u001b[0m\n\u001b[0;32m    447\u001b[0m         \u001b[1;32mraise\u001b[0m \u001b[0mValueError\u001b[0m\u001b[1;33m(\u001b[0m\u001b[1;34m'expected square \"a\" matrix'\u001b[0m\u001b[1;33m)\u001b[0m\u001b[1;33m\u001b[0m\u001b[1;33m\u001b[0m\u001b[0m\n",
      "\u001b[1;32mC:\\ProgramData\\Anaconda3\\envs\\PyTorch\\lib\\site-packages\\scipy\\_lib\\_util.py\u001b[0m in \u001b[0;36m_asarray_validated\u001b[1;34m(a, check_finite, sparse_ok, objects_ok, mask_ok, as_inexact)\u001b[0m\n\u001b[0;32m    291\u001b[0m             \u001b[1;32mraise\u001b[0m \u001b[0mValueError\u001b[0m\u001b[1;33m(\u001b[0m\u001b[1;34m'masked arrays are not supported'\u001b[0m\u001b[1;33m)\u001b[0m\u001b[1;33m\u001b[0m\u001b[1;33m\u001b[0m\u001b[0m\n\u001b[0;32m    292\u001b[0m     \u001b[0mtoarray\u001b[0m \u001b[1;33m=\u001b[0m \u001b[0mnp\u001b[0m\u001b[1;33m.\u001b[0m\u001b[0masarray_chkfinite\u001b[0m \u001b[1;32mif\u001b[0m \u001b[0mcheck_finite\u001b[0m \u001b[1;32melse\u001b[0m \u001b[0mnp\u001b[0m\u001b[1;33m.\u001b[0m\u001b[0masarray\u001b[0m\u001b[1;33m\u001b[0m\u001b[1;33m\u001b[0m\u001b[0m\n\u001b[1;32m--> 293\u001b[1;33m     \u001b[0ma\u001b[0m \u001b[1;33m=\u001b[0m \u001b[0mtoarray\u001b[0m\u001b[1;33m(\u001b[0m\u001b[0ma\u001b[0m\u001b[1;33m)\u001b[0m\u001b[1;33m\u001b[0m\u001b[1;33m\u001b[0m\u001b[0m\n\u001b[0m\u001b[0;32m    294\u001b[0m     \u001b[1;32mif\u001b[0m \u001b[1;32mnot\u001b[0m \u001b[0mobjects_ok\u001b[0m\u001b[1;33m:\u001b[0m\u001b[1;33m\u001b[0m\u001b[1;33m\u001b[0m\u001b[0m\n\u001b[0;32m    295\u001b[0m         \u001b[1;32mif\u001b[0m \u001b[0ma\u001b[0m\u001b[1;33m.\u001b[0m\u001b[0mdtype\u001b[0m \u001b[1;32mis\u001b[0m \u001b[0mnp\u001b[0m\u001b[1;33m.\u001b[0m\u001b[0mdtype\u001b[0m\u001b[1;33m(\u001b[0m\u001b[1;34m'O'\u001b[0m\u001b[1;33m)\u001b[0m\u001b[1;33m:\u001b[0m\u001b[1;33m\u001b[0m\u001b[1;33m\u001b[0m\u001b[0m\n",
      "\u001b[1;32mC:\\ProgramData\\Anaconda3\\envs\\PyTorch\\lib\\site-packages\\numpy\\lib\\function_base.py\u001b[0m in \u001b[0;36masarray_chkfinite\u001b[1;34m(a, dtype, order)\u001b[0m\n\u001b[0;32m    494\u001b[0m     \"\"\"\n\u001b[0;32m    495\u001b[0m     \u001b[0ma\u001b[0m \u001b[1;33m=\u001b[0m \u001b[0masarray\u001b[0m\u001b[1;33m(\u001b[0m\u001b[0ma\u001b[0m\u001b[1;33m,\u001b[0m \u001b[0mdtype\u001b[0m\u001b[1;33m=\u001b[0m\u001b[0mdtype\u001b[0m\u001b[1;33m,\u001b[0m \u001b[0morder\u001b[0m\u001b[1;33m=\u001b[0m\u001b[0morder\u001b[0m\u001b[1;33m)\u001b[0m\u001b[1;33m\u001b[0m\u001b[1;33m\u001b[0m\u001b[0m\n\u001b[1;32m--> 496\u001b[1;33m     \u001b[1;32mif\u001b[0m \u001b[0ma\u001b[0m\u001b[1;33m.\u001b[0m\u001b[0mdtype\u001b[0m\u001b[1;33m.\u001b[0m\u001b[0mchar\u001b[0m \u001b[1;32min\u001b[0m \u001b[0mtypecodes\u001b[0m\u001b[1;33m[\u001b[0m\u001b[1;34m'AllFloat'\u001b[0m\u001b[1;33m]\u001b[0m \u001b[1;32mand\u001b[0m \u001b[1;32mnot\u001b[0m \u001b[0mnp\u001b[0m\u001b[1;33m.\u001b[0m\u001b[0misfinite\u001b[0m\u001b[1;33m(\u001b[0m\u001b[0ma\u001b[0m\u001b[1;33m)\u001b[0m\u001b[1;33m.\u001b[0m\u001b[0mall\u001b[0m\u001b[1;33m(\u001b[0m\u001b[1;33m)\u001b[0m\u001b[1;33m:\u001b[0m\u001b[1;33m\u001b[0m\u001b[1;33m\u001b[0m\u001b[0m\n\u001b[0m\u001b[0;32m    497\u001b[0m         raise ValueError(\n\u001b[0;32m    498\u001b[0m             \"array must not contain infs or NaNs\")\n",
      "\u001b[1;31mKeyboardInterrupt\u001b[0m: "
     ]
    }
   ],
   "source": [
    "for i in range(2, 16):\n",
    "    for j in range(2, 41):\n",
    "        start = time.perf_counter()\n",
    "        for t in range(n_sample):\n",
    "            p = i * np.log(n) / n\n",
    "            q = j * np.log(n) / n\n",
    "            sbm_probs = q * np.ones((M, M)) + (p - q) * np.eye(M)\n",
    "            mfsc = MFSC(\n",
    "                size_of_clusters=b_sizes,\n",
    "                probs_of_sbm=sbm_probs,\n",
    "                max_freq=max_freq,\n",
    "                num_of_clusters=M\n",
    "            )\n",
    "            mfsc.generate_angles()\n",
    "            mfsc.construct_A_k()\n",
    "            mfsc.mfcpqr()\n",
    "\n",
    "            if (mfsc.cluster_id[:b_sizes[0]].sum() == 0 and mfsc.cluster_id[b_sizes[0]:].sum() == b_sizes[1]) \\\n",
    "                    or (\n",
    "                    mfsc.cluster_id[:b_sizes[0]].sum() == b_sizes[0] and mfsc.cluster_id[b_sizes[0]:].sum() == 0):\n",
    "                success_rate[j, i] += 1\n",
    "\n",
    "            angle_error_cluster = np.zeros(M)\n",
    "            for m in range(M):\n",
    "                tmp1 = np.exp(-1j*mfsc.estimated_angles[m * 500:(m + 1) * 500]*d_alpha)\n",
    "                tmp2 = np.exp(1j*mfsc.true_angles_by_cluster[m]*d_alpha)\n",
    "                d_ang = np.angle((tmp1*tmp2).mean())\n",
    "                angle_diff = np.abs(np.mod(mfsc.estimated_angles[m * 500:(m + 1) * 500]*d_alpha + d_ang, 2*np.pi)\n",
    "                                    - mfsc.true_angles_by_cluster[m]*d_alpha)\n",
    "                angle_error_cluster[m] = np.min(np.vstack((angle_diff, 2*np.pi - angle_diff)), axis=0).max()\n",
    "                \n",
    "                \n",
    "#                 angle_estimate = mfsc.estimated_angles[m * 500:(m + 1) * 500]\n",
    "#                 angle_true = mfsc.true_angles_by_cluster[m]\n",
    "#                 tmp = np.zeros(max_freq)\n",
    "#                 for freq in range(max_freq):\n",
    "#                     angle_diff = np.abs(np.mod(angle_estimate + freq, max_freq) - angle_true)\n",
    "#                     tmp[freq] = np.min(np.vstack((angle_diff, max_freq - angle_diff)), axis=0).max()\n",
    "#                 angle_error_cluster[m] = np.min(tmp)\n",
    "\n",
    "#             angle_error[j, i] += np.max(angle_error_cluster) * d_alpha\n",
    "            angle_error[j, i] += np.max(angle_error_cluster)\n",
    "\n",
    "        print(i, j, angle_error[j, i] / n_sample, success_rate[j, i] / n_sample)\n",
    "        print(\"cost %s second\" % (time.perf_counter() - start))"
   ]
  },
  {
   "cell_type": "code",
   "execution_count": null,
   "id": "7772db6b",
   "metadata": {
    "ExecuteTime": {
     "end_time": "2022-02-01T03:09:36.226206Z",
     "start_time": "2022-02-01T03:09:36.226206Z"
    }
   },
   "outputs": [],
   "source": [
    "plt.figure()\n",
    "plt.imshow(success_rate[2:41, 2:16][::-1, :] / n_sample, aspect='0.3', extent=[2, 15, 2, 40], cmap='gray')\n",
    "plt.xlabel(r'$\\alpha$')\n",
    "plt.ylabel(r'$\\beta$')\n",
    "plt.colorbar()\n",
    "plt.grid(linestyle = '--')\n",
    "plt.show()\n",
    "plt.savefig(\"exact_recovery_MFCPQR\")"
   ]
  },
  {
   "cell_type": "code",
   "execution_count": null,
   "id": "737ef098",
   "metadata": {
    "ExecuteTime": {
     "end_time": "2022-02-01T03:09:36.227205Z",
     "start_time": "2022-02-01T03:09:36.227205Z"
    }
   },
   "outputs": [],
   "source": [
    "initial_cmap = cm.get_cmap('gray')\n",
    "reversed_cmap=initial_cmap.reversed()\n",
    "plt.figure()\n",
    "plt.imshow(angle_error[2:41, 2:16][::-1, :] / n_sample, aspect='0.3', extent=[2, 15, 2, 40], cmap=reversed_cmap)\n",
    "plt.xlabel(r'$\\alpha$')\n",
    "plt.ylabel(r'$\\beta$')\n",
    "plt.colorbar()\n",
    "plt.grid(linestyle = '--')\n",
    "plt.show()\n",
    "plt.savefig(\"angle_recovery_MFCPQR\")"
   ]
  },
  {
   "cell_type": "code",
   "execution_count": null,
   "id": "d50c7c67",
   "metadata": {
    "ExecuteTime": {
     "end_time": "2022-02-01T03:09:36.228206Z",
     "start_time": "2022-02-01T03:09:36.228206Z"
    }
   },
   "outputs": [],
   "source": []
  },
  {
   "cell_type": "code",
   "execution_count": null,
   "id": "4cde0105",
   "metadata": {
    "ExecuteTime": {
     "end_time": "2022-02-01T03:09:36.229205Z",
     "start_time": "2022-02-01T03:09:36.229205Z"
    }
   },
   "outputs": [],
   "source": []
  },
  {
   "cell_type": "code",
   "execution_count": null,
   "id": "2203efd5",
   "metadata": {},
   "outputs": [],
   "source": []
  }
 ],
 "metadata": {
  "kernelspec": {
   "display_name": "Python 3 (ipykernel)",
   "language": "python",
   "name": "python3"
  },
  "language_info": {
   "codemirror_mode": {
    "name": "ipython",
    "version": 3
   },
   "file_extension": ".py",
   "mimetype": "text/x-python",
   "name": "python",
   "nbconvert_exporter": "python",
   "pygments_lexer": "ipython3",
   "version": "3.7.11"
  },
  "latex_envs": {
   "LaTeX_envs_menu_present": true,
   "autoclose": false,
   "autocomplete": true,
   "bibliofile": "biblio.bib",
   "cite_by": "apalike",
   "current_citInitial": 1,
   "eqLabelWithNumbers": true,
   "eqNumInitial": 1,
   "hotkeys": {
    "equation": "Ctrl-E",
    "itemize": "Ctrl-I"
   },
   "labels_anchors": false,
   "latex_user_defs": false,
   "report_style_numbering": false,
   "user_envs_cfg": false
  },
  "toc": {
   "base_numbering": 1,
   "nav_menu": {},
   "number_sections": true,
   "sideBar": true,
   "skip_h1_title": false,
   "title_cell": "Table of Contents",
   "title_sidebar": "Contents",
   "toc_cell": false,
   "toc_position": {},
   "toc_section_display": true,
   "toc_window_display": false
  },
  "varInspector": {
   "cols": {
    "lenName": 16,
    "lenType": 16,
    "lenVar": 40
   },
   "kernels_config": {
    "python": {
     "delete_cmd_postfix": "",
     "delete_cmd_prefix": "del ",
     "library": "var_list.py",
     "varRefreshCmd": "print(var_dic_list())"
    },
    "r": {
     "delete_cmd_postfix": ") ",
     "delete_cmd_prefix": "rm(",
     "library": "var_list.r",
     "varRefreshCmd": "cat(var_dic_list()) "
    }
   },
   "types_to_exclude": [
    "module",
    "function",
    "builtin_function_or_method",
    "instance",
    "_Feature"
   ],
   "window_display": false
  }
 },
 "nbformat": 4,
 "nbformat_minor": 5
}
