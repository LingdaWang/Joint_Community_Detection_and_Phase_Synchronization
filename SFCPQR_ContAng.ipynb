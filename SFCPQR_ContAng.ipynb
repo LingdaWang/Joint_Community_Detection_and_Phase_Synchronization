{
 "cells": [
  {
   "cell_type": "code",
   "execution_count": 1,
   "id": "b476c282",
   "metadata": {
    "ExecuteTime": {
     "end_time": "2022-01-31T21:45:32.843985Z",
     "start_time": "2022-01-31T21:45:32.488050Z"
    }
   },
   "outputs": [],
   "source": [
    "import numpy as np\n",
    "import matplotlib.pyplot as plt\n",
    "from numpy.fft import ifft,fft\n",
    "from scipy.linalg import eigh\n",
    "import random\n",
    "from networkx.generators.community import stochastic_block_model\n",
    "from networkx.linalg.graphmatrix import adjacency_matrix\n",
    "from numpy.linalg import norm\n",
    "from matplotlib import cm\n",
    "import time\n",
    "# set random seeds\n",
    "# random.seed(11)\n",
    "# np.random.seed(11)"
   ]
  },
  {
   "cell_type": "code",
   "execution_count": 2,
   "id": "97c5570e",
   "metadata": {
    "ExecuteTime": {
     "end_time": "2022-01-31T21:45:32.858991Z",
     "start_time": "2022-01-31T21:45:32.844990Z"
    }
   },
   "outputs": [],
   "source": [
    "class SFSC_ContAng:\n",
    "\n",
    "    def __init__(self, size_of_clusters, probs_of_sbm, num_of_clusters):\n",
    "\n",
    "        self.graph = np.asarray(adjacency_matrix(stochastic_block_model(size_of_clusters, probs_of_sbm)).todense())\n",
    "        self.true_angles_by_cluster = dict()\n",
    "        self.size_of_clusters = size_of_clusters\n",
    "        self.N = size_of_clusters.sum()\n",
    "        self.num_of_clusters = num_of_clusters\n",
    "        self.alpha_struc = None\n",
    "        self.A_k = None\n",
    "        self.Phi = None\n",
    "        self.Pi = np.eye(self.N)\n",
    "        self.cluster_id = None\n",
    "        self.estimated_angles = None\n",
    "        self.Rf = None\n",
    "\n",
    "        \n",
    "    def generate_angles(self):\n",
    "\n",
    "        self.alpha_struc = np.random.uniform(low=0, high=2*np.pi, size=(self.N, self.N))\n",
    "        self.alpha_struc[np.tril_indices(self.N)] = 0\n",
    "        self.alpha_struc = self.alpha_struc + np.mod(-self.alpha_struc.T, 2*np.pi)\n",
    "        start_idx, end_idx = 0, 0\n",
    "        for idx, b_size in enumerate(self.size_of_clusters):\n",
    "            end_idx += b_size\n",
    "            alphas = np.random.uniform(low=0, high=2*np.pi, size=b_size)\n",
    "            self.true_angles_by_cluster.setdefault(idx, alphas)\n",
    "            self.alpha_struc[start_idx:end_idx, start_idx:end_idx] = np.mod(\n",
    "                alphas.reshape(-1, 1) - alphas,\n",
    "                2*np.pi\n",
    "            )\n",
    "            start_idx += b_size\n",
    "\n",
    "        return None\n",
    "    \n",
    "    def construct_A_k(self):\n",
    "\n",
    "        self.A_k = self.graph * np.exp(1j  * self.alpha_struc)\n",
    "        _, eigen_vec = eigh(\n",
    "            self.A_k,\n",
    "            subset_by_index=[self.N - self.num_of_clusters, self.N - 1]\n",
    "        )\n",
    "        self.Phi = eigen_vec.T\n",
    "        \n",
    "        return None\n",
    "    \n",
    "    def cpqr(self):\n",
    "\n",
    "        R = self.Phi.copy()\n",
    "        for m in range(self.num_of_clusters):\n",
    "            norm_sum = norm(R[m:, m:], axis=0)\n",
    "            piv = np.argmax(norm_sum) + m\n",
    "            R[:, [piv, m]] = R[:, [m, piv]]\n",
    "            self.Pi[:, [piv, m]] = self.Pi[:, [m, piv]]\n",
    "            _, tRm = SFSC_ContAng.qr_method_one_step(R[m:, m:])\n",
    "            R[m:, m:] = tRm\n",
    "\n",
    "        self.Rf = R @ self.Pi.T\n",
    "        self.cluster_id = np.argmax(np.abs(self.Rf), axis=0)\n",
    "        self.estimated_angles = np.angle(self.Rf[self.cluster_id, np.array(range(self.N))])\n",
    "\n",
    "        return None\n",
    "\n",
    "    @staticmethod\n",
    "    def qr_method_one_step(X):\n",
    "\n",
    "        m, _ = X.shape\n",
    "        r = X[:, 0]\n",
    "        alpha = -np.exp(1j * np.angle(r[0])) * norm(r)\n",
    "        e1 = np.zeros(m)\n",
    "        e1[0] = 1\n",
    "        u = r - alpha * e1\n",
    "        v = u / norm(u)\n",
    "        Q = np.eye(m) - 2 * v.reshape(-1, 1) @ np.conjugate(v).reshape(1, -1)\n",
    "        R = Q @ X\n",
    "        R[0, :] = np.exp(-1j * np.angle(R[0, 0])) * R[0, :]\n",
    "\n",
    "        return Q, R"
   ]
  },
  {
   "cell_type": "code",
   "execution_count": 3,
   "id": "9db1048b",
   "metadata": {
    "ExecuteTime": {
     "end_time": "2022-01-31T21:45:32.874894Z",
     "start_time": "2022-01-31T21:45:32.859992Z"
    }
   },
   "outputs": [],
   "source": [
    "n_sample = 20\n",
    "b_sizes = np.array([500, 500])\n",
    "n = b_sizes.sum()\n",
    "M = 2\n",
    "success_rate = np.zeros((41, 16))\n",
    "angle_error = np.zeros((41, 16))"
   ]
  },
  {
   "cell_type": "code",
   "execution_count": 4,
   "id": "d9c8c077",
   "metadata": {
    "ExecuteTime": {
     "end_time": "2022-01-31T21:46:27.506947Z",
     "start_time": "2022-01-31T21:45:32.875897Z"
    }
   },
   "outputs": [
    {
     "name": "stdout",
     "output_type": "stream",
     "text": [
      "8 2 0.039296690543115756 1.0\n",
      "cost 8.0738166 second\n",
      "8 3 0.05398661447504991 1.0\n",
      "cost 8.169913600000001 second\n",
      "8 4 0.06592409830001347 1.0\n",
      "cost 8.5178701 second\n",
      "8 5 0.09364581420810711 1.0\n",
      "cost 8.5658243 second\n",
      "8 6 0.0995338081004054 1.0\n",
      "cost 8.620647400000003 second\n",
      "8 7 0.19244283349587823 0.9\n",
      "cost 8.9191012 second\n"
     ]
    },
    {
     "ename": "KeyboardInterrupt",
     "evalue": "",
     "output_type": "error",
     "traceback": [
      "\u001b[1;31m---------------------------------------------------------------------------\u001b[0m",
      "\u001b[1;31mKeyboardInterrupt\u001b[0m                         Traceback (most recent call last)",
      "\u001b[1;32mC:\\Users\\LINGDA~1\\AppData\\Local\\Temp/ipykernel_21336/245347459.py\u001b[0m in \u001b[0;36m<module>\u001b[1;34m\u001b[0m\n\u001b[0;32m      9\u001b[0m                 \u001b[0msize_of_clusters\u001b[0m\u001b[1;33m=\u001b[0m\u001b[0mb_sizes\u001b[0m\u001b[1;33m,\u001b[0m\u001b[1;33m\u001b[0m\u001b[1;33m\u001b[0m\u001b[0m\n\u001b[0;32m     10\u001b[0m                 \u001b[0mprobs_of_sbm\u001b[0m\u001b[1;33m=\u001b[0m\u001b[0msbm_probs\u001b[0m\u001b[1;33m,\u001b[0m\u001b[1;33m\u001b[0m\u001b[1;33m\u001b[0m\u001b[0m\n\u001b[1;32m---> 11\u001b[1;33m                 \u001b[0mnum_of_clusters\u001b[0m\u001b[1;33m=\u001b[0m\u001b[0mM\u001b[0m\u001b[1;33m\u001b[0m\u001b[1;33m\u001b[0m\u001b[0m\n\u001b[0m\u001b[0;32m     12\u001b[0m             )\n\u001b[0;32m     13\u001b[0m             \u001b[0msfsc\u001b[0m\u001b[1;33m.\u001b[0m\u001b[0mgenerate_angles\u001b[0m\u001b[1;33m(\u001b[0m\u001b[1;33m)\u001b[0m\u001b[1;33m\u001b[0m\u001b[1;33m\u001b[0m\u001b[0m\n",
      "\u001b[1;32mC:\\Users\\LINGDA~1\\AppData\\Local\\Temp/ipykernel_21336/1524484438.py\u001b[0m in \u001b[0;36m__init__\u001b[1;34m(self, size_of_clusters, probs_of_sbm, num_of_clusters)\u001b[0m\n\u001b[0;32m      3\u001b[0m     \u001b[1;32mdef\u001b[0m \u001b[0m__init__\u001b[0m\u001b[1;33m(\u001b[0m\u001b[0mself\u001b[0m\u001b[1;33m,\u001b[0m \u001b[0msize_of_clusters\u001b[0m\u001b[1;33m,\u001b[0m \u001b[0mprobs_of_sbm\u001b[0m\u001b[1;33m,\u001b[0m \u001b[0mnum_of_clusters\u001b[0m\u001b[1;33m)\u001b[0m\u001b[1;33m:\u001b[0m\u001b[1;33m\u001b[0m\u001b[1;33m\u001b[0m\u001b[0m\n\u001b[0;32m      4\u001b[0m \u001b[1;33m\u001b[0m\u001b[0m\n\u001b[1;32m----> 5\u001b[1;33m         \u001b[0mself\u001b[0m\u001b[1;33m.\u001b[0m\u001b[0mgraph\u001b[0m \u001b[1;33m=\u001b[0m \u001b[0mnp\u001b[0m\u001b[1;33m.\u001b[0m\u001b[0masarray\u001b[0m\u001b[1;33m(\u001b[0m\u001b[0madjacency_matrix\u001b[0m\u001b[1;33m(\u001b[0m\u001b[0mstochastic_block_model\u001b[0m\u001b[1;33m(\u001b[0m\u001b[0msize_of_clusters\u001b[0m\u001b[1;33m,\u001b[0m \u001b[0mprobs_of_sbm\u001b[0m\u001b[1;33m)\u001b[0m\u001b[1;33m)\u001b[0m\u001b[1;33m.\u001b[0m\u001b[0mtodense\u001b[0m\u001b[1;33m(\u001b[0m\u001b[1;33m)\u001b[0m\u001b[1;33m)\u001b[0m\u001b[1;33m\u001b[0m\u001b[1;33m\u001b[0m\u001b[0m\n\u001b[0m\u001b[0;32m      6\u001b[0m         \u001b[0mself\u001b[0m\u001b[1;33m.\u001b[0m\u001b[0mtrue_angles_by_cluster\u001b[0m \u001b[1;33m=\u001b[0m \u001b[0mdict\u001b[0m\u001b[1;33m(\u001b[0m\u001b[1;33m)\u001b[0m\u001b[1;33m\u001b[0m\u001b[1;33m\u001b[0m\u001b[0m\n\u001b[0;32m      7\u001b[0m         \u001b[0mself\u001b[0m\u001b[1;33m.\u001b[0m\u001b[0msize_of_clusters\u001b[0m \u001b[1;33m=\u001b[0m \u001b[0msize_of_clusters\u001b[0m\u001b[1;33m\u001b[0m\u001b[1;33m\u001b[0m\u001b[0m\n",
      "\u001b[1;32mC:\\ProgramData\\Anaconda3\\envs\\PyTorch\\lib\\site-packages\\networkx\\utils\\decorators.py\u001b[0m in \u001b[0;36margmap_stochastic_block_model_1\u001b[1;34m(sizes, p, nodelist, seed, directed, selfloops, sparse)\u001b[0m\n\u001b[0;32m      2\u001b[0m \u001b[1;32mfrom\u001b[0m \u001b[0mos\u001b[0m\u001b[1;33m.\u001b[0m\u001b[0mpath\u001b[0m \u001b[1;32mimport\u001b[0m \u001b[0msplitext\u001b[0m\u001b[1;33m\u001b[0m\u001b[1;33m\u001b[0m\u001b[0m\n\u001b[0;32m      3\u001b[0m \u001b[1;32mfrom\u001b[0m \u001b[0mcontextlib\u001b[0m \u001b[1;32mimport\u001b[0m \u001b[0mcontextmanager\u001b[0m\u001b[1;33m\u001b[0m\u001b[1;33m\u001b[0m\u001b[0m\n\u001b[1;32m----> 4\u001b[1;33m \u001b[1;32mfrom\u001b[0m \u001b[0mpathlib\u001b[0m \u001b[1;32mimport\u001b[0m \u001b[0mPath\u001b[0m\u001b[1;33m\u001b[0m\u001b[1;33m\u001b[0m\u001b[0m\n\u001b[0m\u001b[0;32m      5\u001b[0m \u001b[1;32mimport\u001b[0m \u001b[0mwarnings\u001b[0m\u001b[1;33m\u001b[0m\u001b[1;33m\u001b[0m\u001b[0m\n\u001b[0;32m      6\u001b[0m \u001b[1;33m\u001b[0m\u001b[0m\n",
      "\u001b[1;32mC:\\ProgramData\\Anaconda3\\envs\\PyTorch\\lib\\site-packages\\networkx\\generators\\community.py\u001b[0m in \u001b[0;36mstochastic_block_model\u001b[1;34m(sizes, p, nodelist, seed, directed, selfloops, sparse)\u001b[0m\n\u001b[0;32m    629\u001b[0m                     \u001b[0medges\u001b[0m \u001b[1;33m=\u001b[0m \u001b[0mitertools\u001b[0m\u001b[1;33m.\u001b[0m\u001b[0mchain\u001b[0m\u001b[1;33m(\u001b[0m\u001b[0medges\u001b[0m\u001b[1;33m,\u001b[0m \u001b[0mzip\u001b[0m\u001b[1;33m(\u001b[0m\u001b[0mparts\u001b[0m\u001b[1;33m[\u001b[0m\u001b[0mi\u001b[0m\u001b[1;33m]\u001b[0m\u001b[1;33m,\u001b[0m \u001b[0mparts\u001b[0m\u001b[1;33m[\u001b[0m\u001b[0mi\u001b[0m\u001b[1;33m]\u001b[0m\u001b[1;33m)\u001b[0m\u001b[1;33m)\u001b[0m\u001b[1;33m\u001b[0m\u001b[1;33m\u001b[0m\u001b[0m\n\u001b[0;32m    630\u001b[0m             \u001b[1;32mfor\u001b[0m \u001b[0me\u001b[0m \u001b[1;32min\u001b[0m \u001b[0medges\u001b[0m\u001b[1;33m:\u001b[0m\u001b[1;33m\u001b[0m\u001b[1;33m\u001b[0m\u001b[0m\n\u001b[1;32m--> 631\u001b[1;33m                 \u001b[1;32mif\u001b[0m \u001b[0mseed\u001b[0m\u001b[1;33m.\u001b[0m\u001b[0mrandom\u001b[0m\u001b[1;33m(\u001b[0m\u001b[1;33m)\u001b[0m \u001b[1;33m<\u001b[0m \u001b[0mp\u001b[0m\u001b[1;33m[\u001b[0m\u001b[0mi\u001b[0m\u001b[1;33m]\u001b[0m\u001b[1;33m[\u001b[0m\u001b[0mj\u001b[0m\u001b[1;33m]\u001b[0m\u001b[1;33m:\u001b[0m\u001b[1;33m\u001b[0m\u001b[1;33m\u001b[0m\u001b[0m\n\u001b[0m\u001b[0;32m    632\u001b[0m                     \u001b[0mg\u001b[0m\u001b[1;33m.\u001b[0m\u001b[0madd_edge\u001b[0m\u001b[1;33m(\u001b[0m\u001b[1;33m*\u001b[0m\u001b[0me\u001b[0m\u001b[1;33m)\u001b[0m\u001b[1;33m\u001b[0m\u001b[1;33m\u001b[0m\u001b[0m\n\u001b[0;32m    633\u001b[0m         \u001b[1;32melse\u001b[0m\u001b[1;33m:\u001b[0m\u001b[1;33m\u001b[0m\u001b[1;33m\u001b[0m\u001b[0m\n",
      "\u001b[1;31mKeyboardInterrupt\u001b[0m: "
     ]
    }
   ],
   "source": [
    "for i in range(2, 16):\n",
    "    for j in range(2, 41):\n",
    "        start = time.perf_counter()\n",
    "        for t in range(n_sample):\n",
    "            p = i * np.log(n) / n\n",
    "            q = j * np.log(n) / n\n",
    "            sbm_probs = q * np.ones((M, M)) + (p - q) * np.eye(M)\n",
    "            sfsc = SFSC_ContAng(\n",
    "                size_of_clusters=b_sizes,\n",
    "                probs_of_sbm=sbm_probs,\n",
    "                num_of_clusters=M\n",
    "            )\n",
    "            sfsc.generate_angles()\n",
    "            sfsc.construct_A_k()\n",
    "            sfsc.cpqr()\n",
    "\n",
    "            if (sfsc.cluster_id[:b_sizes[0]].sum() == 0 and sfsc.cluster_id[b_sizes[0]:].sum() == b_sizes[1]) \\\n",
    "                    or (\n",
    "                    sfsc.cluster_id[:b_sizes[0]].sum() == b_sizes[0] and sfsc.cluster_id[b_sizes[0]:].sum() == 0):\n",
    "                success_rate[j, i] += 1\n",
    "\n",
    "            angle_error_cluster = np.zeros(M)\n",
    "            for m in range(M):\n",
    "                tmp1 = np.exp(-1j*sfsc.estimated_angles[m * 500:(m + 1) * 500])\n",
    "                tmp2 = np.exp(1j*sfsc.true_angles_by_cluster[m])\n",
    "                d_ang = np.angle((tmp1*tmp2).mean())\n",
    "                angle_diff = np.abs(np.mod(sfsc.estimated_angles[m * 500:(m + 1) * 500] + d_ang, 2*np.pi)\n",
    "                                    - sfsc.true_angles_by_cluster[m])\n",
    "                angle_error_cluster[m] = np.min(np.vstack((angle_diff, 2*np.pi - angle_diff)), axis=0).max()\n",
    "\n",
    "#                 angle_estimate = sfsc.estimated_angles[m * 500:(m + 1) * 500]\n",
    "#                 angle_true = sfsc.true_angles_by_cluster[m]\n",
    "#                 tmp = np.zeros(360)\n",
    "#                 for freq in range(360):\n",
    "#                     angle_diff = np.abs(np.mod(angle_estimate + freq*np.pi/180, 2*np.pi) - angle_true)\n",
    "#                     tmp[freq] = np.min(np.vstack((angle_diff, 2*np.pi - angle_diff)), axis=0).max()\n",
    "#                 angle_error_cluster[m] = np.min(tmp)\n",
    "\n",
    "            angle_error[j, i] += np.max(angle_error_cluster)\n",
    "\n",
    "        print(i, j, angle_error[j, i] / n_sample, success_rate[j, i] / n_sample)\n",
    "        print(\"cost %s second\" % (time.perf_counter() - start))"
   ]
  },
  {
   "cell_type": "code",
   "execution_count": null,
   "id": "4090c238",
   "metadata": {
    "ExecuteTime": {
     "end_time": "2022-01-31T21:46:27.508947Z",
     "start_time": "2022-01-31T21:46:27.508947Z"
    }
   },
   "outputs": [],
   "source": [
    "plt.figure()\n",
    "plt.imshow(success_rate[2:41, 2:16][::-1, :] / n_sample, aspect='0.3', extent=[2, 15, 2, 40], cmap='gray')\n",
    "plt.xlabel(r'$\\alpha$')\n",
    "plt.ylabel(r'$\\beta$')\n",
    "plt.colorbar()\n",
    "plt.grid(linestyle = '--')\n",
    "plt.show()\n",
    "plt.savefig(\"exact_recovery_SFCPQR_ContAng\")"
   ]
  },
  {
   "cell_type": "code",
   "execution_count": null,
   "id": "9a1253d7",
   "metadata": {
    "ExecuteTime": {
     "end_time": "2022-01-31T21:46:27.509947Z",
     "start_time": "2022-01-31T21:46:27.509947Z"
    }
   },
   "outputs": [],
   "source": [
    "initial_cmap = cm.get_cmap('gray')\n",
    "reversed_cmap=initial_cmap.reversed()\n",
    "\n",
    "plt.figure()\n",
    "plt.imshow(angle_error[2:41, 2:16][::-1, :] / n_sample, aspect='0.3', extent=[2, 15, 2, 40], cmap=reversed_cmap)\n",
    "plt.xlabel(r'$\\alpha$')\n",
    "plt.ylabel(r'$\\beta$')\n",
    "plt.colorbar()\n",
    "plt.grid(linestyle = '--')\n",
    "plt.show()\n",
    "plt.savefig(\"angle_recovery_SFCPQR_ContAng\")"
   ]
  }
 ],
 "metadata": {
  "kernelspec": {
   "display_name": "Python 3 (ipykernel)",
   "language": "python",
   "name": "python3"
  },
  "language_info": {
   "codemirror_mode": {
    "name": "ipython",
    "version": 3
   },
   "file_extension": ".py",
   "mimetype": "text/x-python",
   "name": "python",
   "nbconvert_exporter": "python",
   "pygments_lexer": "ipython3",
   "version": "3.7.11"
  },
  "latex_envs": {
   "LaTeX_envs_menu_present": true,
   "autoclose": false,
   "autocomplete": true,
   "bibliofile": "biblio.bib",
   "cite_by": "apalike",
   "current_citInitial": 1,
   "eqLabelWithNumbers": true,
   "eqNumInitial": 1,
   "hotkeys": {
    "equation": "Ctrl-E",
    "itemize": "Ctrl-I"
   },
   "labels_anchors": false,
   "latex_user_defs": false,
   "report_style_numbering": false,
   "user_envs_cfg": false
  },
  "toc": {
   "base_numbering": 1,
   "nav_menu": {},
   "number_sections": true,
   "sideBar": true,
   "skip_h1_title": false,
   "title_cell": "Table of Contents",
   "title_sidebar": "Contents",
   "toc_cell": false,
   "toc_position": {},
   "toc_section_display": true,
   "toc_window_display": false
  },
  "varInspector": {
   "cols": {
    "lenName": 16,
    "lenType": 16,
    "lenVar": 40
   },
   "kernels_config": {
    "python": {
     "delete_cmd_postfix": "",
     "delete_cmd_prefix": "del ",
     "library": "var_list.py",
     "varRefreshCmd": "print(var_dic_list())"
    },
    "r": {
     "delete_cmd_postfix": ") ",
     "delete_cmd_prefix": "rm(",
     "library": "var_list.r",
     "varRefreshCmd": "cat(var_dic_list()) "
    }
   },
   "types_to_exclude": [
    "module",
    "function",
    "builtin_function_or_method",
    "instance",
    "_Feature"
   ],
   "window_display": false
  }
 },
 "nbformat": 4,
 "nbformat_minor": 5
}
